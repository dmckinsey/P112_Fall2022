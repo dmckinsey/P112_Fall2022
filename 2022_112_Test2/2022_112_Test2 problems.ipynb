{
 "cells": [
  {
   "cell_type": "markdown",
   "metadata": {},
   "source": [
    "# 2022_112_Test2 problems"
   ],
   "id": "0"
  },
  {
   "cell_type": "markdown",
   "metadata": {},
   "source": [
    "## Question 1: Large $N$ effect"
   ],
   "id": "1"
  },
  {
   "cell_type": "markdown",
   "metadata": {},
   "source": [
    "### Learning objectives\n",
    "In this question you will:\n",
    "\n",
    "- observe how $e^{-Nf(x)}$ becomes sharply peaked for large $N$ around the global minima of $f(x)$\n"
   ],
   "id": "2"
  },
  {
   "cell_type": "markdown",
   "metadata": {},
   "source": [
    "### 1a. "
   ],
   "id": "3"
  },
  {
   "cell_type": "markdown",
   "metadata": {
    "flags": [
     "problems",
     "solutions"
    ]
   },
   "source": [
    "Consider the function $$f(x)={x\\over 10}-{x^2\\over 2}+{x^4\\over 4}.$$ Plot the normalized (such that the maximum is 1) $e^{-Nf(x)}$ for $N=1,10,100,1000$. The purpose of this problem is to show you that the \"large $N$\" effect is not restricted to functions with a single minimum."
   ],
   "id": "4"
  },
  {
   "cell_type": "code",
   "metadata": {},
   "source": [
    "#Write your answer here"
   ],
   "outputs": [],
   "execution_count": null,
   "id": "5"
  },
  {
   "cell_type": "markdown",
   "metadata": {},
   "source": [
    "### 1b. "
   ],
   "id": "6"
  },
  {
   "cell_type": "markdown",
   "metadata": {
    "flags": [
     "problems",
     "solutions"
    ]
   },
   "source": [
    "Consider the function $$f(x,y)={1\\over 2}(x^2+y^2)+{1\\over 4}(x^2+y^2)^2.$$ Plot $e^{-N f(x,y)}$ for $N=1,10,100,1000$. The purpose of this problem is to show you that the \"large N\" effect is not restricted to a single variable.\n",
    "\n",
    "Hint: see the numpy array tutorial ([GitHub](https://github.com/berkeley-physics/Python-Tutorials/blob/master/2%20-%20Intermediate/3%20-%20NumPy%20arrays.ipynb), [DataHub](https://datahub.berkeley.edu/hub/user-redirect/git-pull?repo=https%3A%2F%2Fgithub.com%2Fberkeley-physics%2FPython-Tutorials&urlpath=tree%2FPython-Tutorials%2F2+-+Intermediate%2F3+-+NumPy+arrays.ipynb&branch=master)) to learn how to make a 3d or 2d colour plot. Also, Mathematica is very convenient for 3d plotting."
   ],
   "id": "7"
  },
  {
   "cell_type": "code",
   "metadata": {},
   "source": [
    "#Write your answer here"
   ],
   "outputs": [],
   "execution_count": null,
   "id": "8"
  }
 ],
 "metadata": {
  "kernelspec": {
   "display_name": "Python [default]",
   "language": "python",
   "name": "python3"
  },
  "language_info": {
   "codemirror_mode": {
    "name": "ipython",
    "version": 3
   },
   "file_extension": ".py",
   "mimetype": "text/x-python",
   "name": "python",
   "nbconvert_exporter": "python",
   "pygments_lexer": "ipython3",
   "version": "3.6.8"
  }
 },
 "nbformat": 4,
 "nbformat_minor": 5
}